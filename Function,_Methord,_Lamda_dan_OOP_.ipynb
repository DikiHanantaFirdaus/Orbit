{
  "nbformat": 4,
  "nbformat_minor": 0,
  "metadata": {
    "colab": {
      "name": "Function, Methord, Lamda dan OOP .ipynb",
      "provenance": [],
      "collapsed_sections": []
    },
    "kernelspec": {
      "name": "python3",
      "display_name": "Python 3"
    },
    "language_info": {
      "name": "python"
    }
  },
  "cells": [
    {
      "cell_type": "markdown",
      "metadata": {
        "id": "Le8N3SLcbiAd"
      },
      "source": [
        "# **Fungsi**"
      ]
    },
    {
      "cell_type": "code",
      "metadata": {
        "id": "nF-dwZv5beyA"
      },
      "source": [
        ""
      ],
      "execution_count": null,
      "outputs": []
    },
    {
      "cell_type": "code",
      "metadata": {
        "colab": {
          "base_uri": "https://localhost:8080/"
        },
        "id": "ywDbPVukTDYd",
        "outputId": "e0f7ea03-86eb-4d3d-b4cb-581a6560bb7b"
      },
      "source": [
        "# Deklarasi Fungsi\n",
        "def cetak(x):\n",
        "  print(x)\n",
        "\n",
        "# Memanggil Fungsi\n",
        "cetak(\"wokee\")"
      ],
      "execution_count": null,
      "outputs": [
        {
          "output_type": "stream",
          "name": "stdout",
          "text": [
            "wokee\n"
          ]
        }
      ]
    },
    {
      "cell_type": "code",
      "metadata": {
        "colab": {
          "base_uri": "https://localhost:8080/"
        },
        "id": "rqxjqSeebg4Z",
        "outputId": "66a6702d-6a41-4b5e-bc62-d6e2a0a618d4"
      },
      "source": [
        "# Deklarasi Fungsi\n",
        "def cetak(x):\n",
        "  print(x)\n",
        "\n",
        "# Memanggil Fungsi\n",
        "cetak(\"Diki Hananta Firdaus\")"
      ],
      "execution_count": null,
      "outputs": [
        {
          "output_type": "stream",
          "name": "stdout",
          "text": [
            "Diki Hananta Firdaus\n"
          ]
        }
      ]
    },
    {
      "cell_type": "code",
      "metadata": {
        "colab": {
          "base_uri": "https://localhost:8080/"
        },
        "id": "RipUgd0NTdjo",
        "outputId": "344ba08b-ccbc-4b78-f2c7-6c43f7457963"
      },
      "source": [
        "# Deklarasi Fungsi dengan pengembalian\n",
        "def tambah(a, b):\n",
        "  return a + b;\n",
        "\n",
        "# Memanggil Fungsi\n",
        "print(tambah(2, 3))"
      ],
      "execution_count": null,
      "outputs": [
        {
          "output_type": "stream",
          "name": "stdout",
          "text": [
            "5\n"
          ]
        }
      ]
    },
    {
      "cell_type": "code",
      "metadata": {
        "colab": {
          "base_uri": "https://localhost:8080/"
        },
        "id": "pNeoKSxSbr9n",
        "outputId": "ec8f9433-4a4f-4d03-d745-f8c9384573e4"
      },
      "source": [
        "# Deklarasi Fungsi dengan pengembalian\n",
        "def tambah(x, y, z):\n",
        "  return x + y * z;\n",
        "\n",
        "# Memanggil Fungsi\n",
        "print(tambah(2, 3, 10))"
      ],
      "execution_count": null,
      "outputs": [
        {
          "output_type": "stream",
          "name": "stdout",
          "text": [
            "32\n"
          ]
        }
      ]
    },
    {
      "cell_type": "code",
      "metadata": {
        "id": "9r0oXaTxVRvi"
      },
      "source": [
        "def nama_fungsi(arg1, arg2, ...):\n",
        "  # isi fungsi\n",
        "\n",
        "def fungsi_dengan_pengembalian(arg1, arg2, ...):\n",
        "  # isi fungsi\n",
        "  return 'sesuatu'"
      ],
      "execution_count": null,
      "outputs": []
    },
    {
      "cell_type": "code",
      "metadata": {
        "id": "Z9lpb5zNb3v3"
      },
      "source": [
        ""
      ],
      "execution_count": null,
      "outputs": []
    },
    {
      "cell_type": "markdown",
      "metadata": {
        "id": "SLOP8yGkbpLO"
      },
      "source": [
        "# **Method**"
      ]
    },
    {
      "cell_type": "code",
      "metadata": {
        "id": "P_Z6c_AYWi71"
      },
      "source": [
        "class NamaClass:\n",
        "  def nama_method(arg1, arg2, ...):\n",
        "    # isi method"
      ],
      "execution_count": null,
      "outputs": []
    },
    {
      "cell_type": "code",
      "metadata": {
        "colab": {
          "base_uri": "https://localhost:8080/"
        },
        "id": "uh927B9_W0N1",
        "outputId": "9965b2d3-212f-474a-b089-6dc60873179c"
      },
      "source": [
        "# Deklarasi Object (Class)\n",
        "class Kucing(object):\n",
        "  def meong(self):\n",
        "    print(\"meeooong\")\n",
        "\n",
        "# Memanggil method\n",
        "cat = Kucing()\n",
        "cat.meong()"
      ],
      "execution_count": null,
      "outputs": [
        {
          "output_type": "stream",
          "name": "stdout",
          "text": [
            "meeooong\n"
          ]
        }
      ]
    },
    {
      "cell_type": "code",
      "metadata": {
        "colab": {
          "base_uri": "https://localhost:8080/"
        },
        "id": "Tj3-uoNmcJV_",
        "outputId": "ef0677a1-f356-49ba-94d7-a9e6e309e16e"
      },
      "source": [
        "# Deklarasi Object (Class)\n",
        "class Tikus(object):\n",
        "  def curut(self):\n",
        "    print(\"Jijik\")\n",
        "\n",
        "# Memanggil method\n",
        "rat = Tikus()\n",
        "rat.curut()"
      ],
      "execution_count": null,
      "outputs": [
        {
          "output_type": "stream",
          "name": "stdout",
          "text": [
            "Jijik\n"
          ]
        }
      ]
    },
    {
      "cell_type": "markdown",
      "metadata": {
        "id": "3WbfqdEWbtsl"
      },
      "source": [
        "# **Lambda Expression**"
      ]
    },
    {
      "cell_type": "code",
      "metadata": {
        "colab": {
          "base_uri": "https://localhost:8080/"
        },
        "id": "wmZuN2s7ZzAZ",
        "outputId": "44eaf66e-06fb-4c92-e753-11e848d78523"
      },
      "source": [
        "# Lambda expression\n",
        "tambah = lambda a, b: (a + b)\n",
        "print(tambah(2, 3))"
      ],
      "execution_count": null,
      "outputs": [
        {
          "output_type": "stream",
          "name": "stdout",
          "text": [
            "5\n"
          ]
        }
      ]
    },
    {
      "cell_type": "code",
      "metadata": {
        "colab": {
          "base_uri": "https://localhost:8080/"
        },
        "id": "_arb28T5chNk",
        "outputId": "ab206276-e642-4f4d-bffb-bcb252168b21"
      },
      "source": [
        "# Lambda expression \n",
        "greeting = lambda name: print(f\"Hello, {name}\")\n",
        "sapa = greeting\n",
        "greeting(\"Diki Ganteng\")\n",
        "sapa(\"Kawan\")"
      ],
      "execution_count": null,
      "outputs": [
        {
          "output_type": "stream",
          "name": "stdout",
          "text": [
            "Hello, Diki Ganteng\n",
            "Hello, Kawan\n"
          ]
        }
      ]
    },
    {
      "cell_type": "markdown",
      "metadata": {
        "id": "jxicmjLxkXCa"
      },
      "source": [
        "# **Object Oriented Programming**"
      ]
    },
    {
      "cell_type": "markdown",
      "metadata": {
        "id": "K_u-Dtb6kcBm"
      },
      "source": [
        "## **Encapsulation**"
      ]
    },
    {
      "cell_type": "code",
      "metadata": {
        "colab": {
          "base_uri": "https://localhost:8080/"
        },
        "id": "9-CEKFKYm2AA",
        "outputId": "a7c6cec8-7fb2-4ff3-b164-6b026ecaf78c"
      },
      "source": [
        "nama = \"cemong\"\n",
        "usia = 1\n",
        "warna = \"putih coklat muda\"\n",
        "jenis = \"anggora\"\n",
        "\n",
        "def meongg():\n",
        "  print(\"meeeoonnggg... \")\n",
        "\n",
        "def info_kucing(nama, usia, warna, jenis):\n",
        "  print(f\"nama: {nama}, usia: {usia}, warna: {warna}, jenis: {jenis}\")\n",
        "\n",
        "info_kucing(nama, usia, warna, jenis)\n",
        "\n",
        "\n",
        "class Kucing:\n",
        "  def __init__(self, nama, usia, warna, jenis):\n",
        "    self.nama = nama\n",
        "    self.usia = usia\n",
        "    self.warna = warna\n",
        "    self.jenis = jenis\n",
        "\n",
        "  def myfunc(self):\n",
        "    print(\"Hello my name is \" + self.nama)\n",
        "  \n",
        "  def meong(self):\n",
        "    print(\"meeeoonnggg... \")\n",
        "\n",
        "  def info(self):\n",
        "    print(f\"nama: {self.nama}, usia: {self.usia}, warna: {self.warna}, jenis: {self.jenis}\")\n",
        "\n",
        "\n",
        "kucing1 = Kucing(\"cemong\", 1, \"putih coklat muda\", \"anggora\")\n",
        "\n",
        "kucing1.info()"
      ],
      "execution_count": null,
      "outputs": [
        {
          "output_type": "stream",
          "name": "stdout",
          "text": [
            "nama: cemong, usia: 1, warna: putih coklat muda, jenis: anggora\n",
            "nama: cemong, usia: 1, warna: putih coklat muda, jenis: anggora\n"
          ]
        }
      ]
    },
    {
      "cell_type": "markdown",
      "metadata": {
        "id": "Xpt9Lz6vqN-z"
      },
      "source": [
        "## **Abstraction**"
      ]
    },
    {
      "cell_type": "code",
      "metadata": {
        "colab": {
          "base_uri": "https://localhost:8080/"
        },
        "id": "fwa_TEf-v_8f",
        "outputId": "80f145b1-e701-416e-ec63-f09e22f1d235"
      },
      "source": [
        "# Memanggil method dari objek tanpa harus mengetahui cara kerja method\n",
        "kucing1.myfunc()"
      ],
      "execution_count": null,
      "outputs": [
        {
          "output_type": "stream",
          "name": "stdout",
          "text": [
            "Hello my name is cemong\n"
          ]
        }
      ]
    },
    {
      "cell_type": "markdown",
      "metadata": {
        "id": "wBoEkCxewdrg"
      },
      "source": [
        "## **Inheritence**"
      ]
    },
    {
      "cell_type": "code",
      "metadata": {
        "colab": {
          "base_uri": "https://localhost:8080/"
        },
        "id": "HsVgKNgowiRP",
        "outputId": "eb243b37-c25c-47b3-a01f-6b1718a3959f"
      },
      "source": [
        "class Binatang(object):\n",
        "  def __init__(self, nama, usia, jenis, mamalia):\n",
        "    self.nama = nama\n",
        "    self.usia = usia\n",
        "    self.jenis = jenis\n",
        "    self.mamalia = mamalia\n",
        "\n",
        "  def tidur(self, durasi):\n",
        "    for x in range(durasi):\n",
        "      print(\"ddrrr... ddrrr... \")\n",
        "\n",
        "  def info(self):\n",
        "    print(f\"nama: {self.nama}, usia: {self.usia}, jenis: {self.jenis}, mamalia: {self.mamalia}\")\n",
        "\n",
        "\n",
        "animal1 = Binatang(\"cemong\", 1, \"omnivora\", True)\n",
        "\n",
        "animal1.info()\n",
        "\n",
        "class Kucing(Binatang):\n",
        "  def __init__(self,  nama, usia, jenis, mamalia, warna, jenis_kucing):\n",
        "    super().__init__(nama, usia, jenis, mamalia)\n",
        "    self.warna = warna\n",
        "    self.jenis_kucing = jenis_kucing\n",
        "  \n",
        "  def meong(self):\n",
        "    print(\"meeeonnggg\")\n",
        "\n",
        "  def info_kucing(self):\n",
        "    print(f\"warna: {self.warna}, jenis kucing: {self.jenis_kucing}\")\n",
        "\n",
        "cat1 = Kucing(\"cemong\", 1, \"omnivora\", True, \"putih coklat muda\", \"anggora\")\n",
        "\n",
        "cat1.info()\n",
        "cat1.info_kucing()"
      ],
      "execution_count": null,
      "outputs": [
        {
          "output_type": "stream",
          "name": "stdout",
          "text": [
            "nama: cemong, usia: 1, jenis: omnivora, mamalia: True\n",
            "nama: cemong, usia: 1, jenis: omnivora, mamalia: True\n",
            "warna: putih coklat muda, jenis kucing: anggora\n"
          ]
        }
      ]
    },
    {
      "cell_type": "markdown",
      "metadata": {
        "id": "lLLHjBNp1HDe"
      },
      "source": [
        "## **Polymorphism**"
      ]
    },
    {
      "cell_type": "code",
      "metadata": {
        "colab": {
          "base_uri": "https://localhost:8080/"
        },
        "id": "BZLA6LDrxDHr",
        "outputId": "3c09f462-8796-450f-9a3f-9bf954043c34"
      },
      "source": [
        "class Ikan(Binatang):\n",
        "  def __init__(self,  nama, usia, jenis, mamalia, warna, jenis_air, jenis_ikan):\n",
        "    super().__init__(nama, usia, jenis, mamalia)\n",
        "    self.warna = warna\n",
        "    self.jenis_air = jenis_air\n",
        "    self.jenis_ikan = jenis_ikan\n",
        "  \n",
        "  def berenang(self, durasi):\n",
        "    print(\"wushh... wush... \")\n",
        "\n",
        "  def info_ikan(self):\n",
        "    print(f\"warna: {self.warna}, jenis ikan: {self.jenis_ikan}, jenis air: {self.jenis_air}\")\n",
        "\n",
        "fish1 = Ikan(\"Jago\", 2, \"omnivora\", False, \"Merah Putih\", \"Tawar\", \"Cupang\")\n",
        "\n",
        "fish1.info()\n",
        "fish1.info_ikan()\n",
        "fish1.tidur(5)"
      ],
      "execution_count": null,
      "outputs": [
        {
          "output_type": "stream",
          "name": "stdout",
          "text": [
            "nama: Jago, usia: 2, jenis: omnivora, mamalia: False\n",
            "warna: Merah Putih, jenis ikan: Cupang, jenis air: Tawar\n",
            "ddrrr... ddrrr... \n",
            "ddrrr... ddrrr... \n",
            "ddrrr... ddrrr... \n",
            "ddrrr... ddrrr... \n",
            "ddrrr... ddrrr... \n"
          ]
        }
      ]
    },
    {
      "cell_type": "markdown",
      "metadata": {
        "id": "bse6mJ62GOR1"
      },
      "source": [
        "## **Activity OOP**\n",
        "\n",
        "Buatlah 3 OOP beserta turunannya dari objek sekitar, buat ulang seperti yang diatas (encapsulation, abstaction, inheritance, polymorphism)"
      ]
    },
    {
      "cell_type": "code",
      "metadata": {
        "id": "eZpA5bfMIhGk"
      },
      "source": [
        "# Class Mahasiswa\n",
        "\n",
        "class Mahasiswa(object):\n",
        "  def __init__(self, nim, nama, jenkel, alamat, jurusan, angkatan, presensi, nilai, ipk, tagihan):\n",
        "    self.nim = nim\n",
        "    self.nama = nama\n",
        "    self.jenkel = jenkel\n",
        "    self.alamat = alamat\n",
        "    self.jurusan = jurusan\n",
        "    self.angkatan = angkatan\n",
        "    self.presensi = presensi\n",
        "    self.nilai = nilai\n",
        "    self.ipk = ipk\n",
        "    self.tagihan = tagihan\n",
        "  \n",
        "  def BayarKuliah(self):\n",
        "    print('Total tagihan =', self.tagihan)\n",
        "  \n",
        "  def IkutKelas(self):\n",
        "    print('Data Science, NLP, Computer Vision, Kewirausahaan')\n",
        "  \n",
        "  def IkutUjian(self):\n",
        "    print('Proposal Bisnis')\n",
        "  \n",
        "  def LihatNilai(self):\n",
        "    print(f'IPK Anda: {self.ipk}, nilai anda: {self.nilai}, presensi Anda: {self.presensi} %')\n",
        "  "
      ],
      "execution_count": null,
      "outputs": []
    },
    {
      "cell_type": "code",
      "metadata": {
        "colab": {
          "base_uri": "https://localhost:8080/"
        },
        "id": "CBNVUuj7DPN_",
        "outputId": "d3f22e50-c329-46eb-edf1-05debbacf68d"
      },
      "source": [
        "#Encapsulation\n",
        "# Enkapsulation\n",
        "barang = \"Meja belajar\"\n",
        "bahan = \"Kayu Jati\"\n",
        "warna = \"coklat\"\n",
        "jumlah = 2\n",
        "\n",
        "def jenis():\n",
        "  print(\"Meja Belajar olympics\")\n",
        "\n",
        "def info_meja(barang, bahan, warna, jumlah):\n",
        "  print(f\"barang : {barang}, bahan : {bahan}, warna : {warna}, jumlah : {jumlah}\")\n",
        "\n",
        "info_meja(barang, bahan, warna, jumlah)\n",
        "\n",
        "\n",
        "class Meja:\n",
        "  def __init__(self, barang, bahan, warna, jumlah):\n",
        "    self.barang = barang\n",
        "    self.bahan = bahan\n",
        "    self.warna = warna\n",
        "    self.jumlah = jumlah\n",
        "\n",
        "  def myluv(self):\n",
        "    print(\"Barang yang sering digunakan \" + self.barang)\n",
        "  \n",
        "  def jenis(self):\n",
        "    print(\"Meja Belajar Osweet\")\n",
        "\n",
        "  def info(self):\n",
        "    print(f\"barang : {self.barang}, bahan : {self.bahan}, warna : {self.warna}, jumlah : {self.jumlah}\")\n",
        "\n",
        "\n",
        "mejaku = Meja(\"Meja belajar\", \"Kayu Jati\", \"coklat\", 2)\n",
        "\n",
        "mejaku.info()"
      ],
      "execution_count": null,
      "outputs": [
        {
          "output_type": "stream",
          "name": "stdout",
          "text": [
            "barang : Meja belajar, bahan : Kayu Jati, warna : coklat, jumlah : 2\n",
            "barang : Meja belajar, bahan : Kayu Jati, warna : coklat, jumlah : 2\n"
          ]
        }
      ]
    },
    {
      "cell_type": "code",
      "metadata": {
        "colab": {
          "base_uri": "https://localhost:8080/"
        },
        "id": "QmOQSH4hGA4F",
        "outputId": "f2fe3dfa-253a-4224-cb3f-092aecc6be84"
      },
      "source": [
        "#Abstraction \n",
        "mejaku.myluv()"
      ],
      "execution_count": null,
      "outputs": [
        {
          "output_type": "stream",
          "name": "stdout",
          "text": [
            "Barang yang sering digunakan Meja belajar\n"
          ]
        }
      ]
    },
    {
      "cell_type": "code",
      "metadata": {
        "id": "vsIKDpZ2GMTr",
        "colab": {
          "base_uri": "https://localhost:8080/"
        },
        "outputId": "4b4d196f-23ba-40e8-d538-863b6f229ee0"
      },
      "source": [
        "# Inheritence\n",
        "\n",
        "class Benda(object):\n",
        "  def __init__(self, barang, bahan, kokoh):\n",
        "    self.barang = barang\n",
        "    self.bahan = bahan\n",
        "    self.kokoh = kokoh\n",
        "\n",
        "  def tinggi(self, berapa):\n",
        "    for x in range(berapa):\n",
        "      print(\"Tingginya 130 cm\")\n",
        "\n",
        "  def info(self):\n",
        "    print(f\"barang : {self.barang}, bahan : {self.bahan}, kokoh: {self.kokoh}\")\n",
        "\n",
        "\n",
        "object1 = Benda(\"Meja\", \"Kayu Jati\",  True)\n",
        "\n",
        "object1.info()\n",
        "\n",
        "class Meja(Benda):\n",
        "  def __init__(self,  barang, bahan, kokoh, warna,jumlah, guna):\n",
        "    super().__init__(barang, bahan, kokoh)\n",
        "    self.warna = warna\n",
        "    self.jumlah = jumlah\n",
        "    self.guna = guna\n",
        "  \n",
        "  def jenis(self):\n",
        "    print(\"Meja Belajar Osweet\")\n",
        "\n",
        "  def info_benda(self):\n",
        "    print(f\"warna : {self.warna}, jumlah: {self.jumlah}, guna : {self.guna}\")\n",
        "# warna :{self.warna},\n",
        "\n",
        "bendaku = Meja(\"Meja\", \"Kayu Jati\",  True, \"coklat\", 2, \"sebagai alas\")\n",
        "\n",
        "bendaku.info()\n",
        "bendaku.info_benda()"
      ],
      "execution_count": null,
      "outputs": [
        {
          "output_type": "stream",
          "name": "stdout",
          "text": [
            "barang : Meja, bahan : Kayu Jati, kokoh: True\n",
            "barang : Meja, bahan : Kayu Jati, kokoh: True\n",
            "warna : coklat, jumlah: 2, guna : sebagai alas\n"
          ]
        }
      ]
    },
    {
      "cell_type": "code",
      "metadata": {
        "id": "DOCKN83_GMtd",
        "colab": {
          "base_uri": "https://localhost:8080/"
        },
        "outputId": "5c2959aa-2d00-408b-9ef1-e14c0ef995c2"
      },
      "source": [
        "# Polymorphism\n",
        "class Kursi(Benda):\n",
        "  def __init__(self,  barang, bahan, kokoh, warna, model, jenis_guna):\n",
        "    super().__init__(barang, bahan, kokoh)\n",
        "    self.warna = warna\n",
        "    self.model = model\n",
        "    self.jenis_guna = jenis_guna\n",
        "  \n",
        "  def panjang(self, berapa):\n",
        "    print(\"Bisa buat rebahan....\")\n",
        "\n",
        "  def info_kursi(self):\n",
        "    print(f\"warna : {self.warna}, model : {self.model}, jenis guna : {self.jenis_guna}\")\n",
        "\n",
        "kursiku = Kursi(\"Kursi Tamu\", \"Kayu Jati\",  False, \"Coklat muda\", \"Kursi panjang resban\", \"Kursi tunggu\")\n",
        "\n",
        "kursiku.info()\n",
        "kursiku.info_kursi()\n",
        "kursiku.tinggi(3)"
      ],
      "execution_count": null,
      "outputs": [
        {
          "output_type": "stream",
          "name": "stdout",
          "text": [
            "barang : Kursi Tamu, bahan : Kayu Jati, kokoh: False\n",
            "warna : Coklat muda, model : Kursi panjang resban, jenis guna : Kursi tunggu\n",
            "Tingginya 130 cm\n",
            "Tingginya 130 cm\n",
            "Tingginya 130 cm\n"
          ]
        }
      ]
    },
    {
      "cell_type": "markdown",
      "metadata": {
        "id": "En85LL8CeD0w"
      },
      "source": [
        "##OOP DIKI HF"
      ]
    },
    {
      "cell_type": "code",
      "metadata": {
        "id": "-lj-vkQuHqAv"
      },
      "source": [
        "# Super Class\n",
        "class Person(object):\n",
        "  def __init__(self, nama, jenkel, alamat, no_wa):\n",
        "    self.nama = nama\n",
        "    self.jenkel = jenkel\n",
        "    self.alamat = alamat\n",
        "    self.no_wa = no_wa\n",
        "\n",
        "# Subclass 1\n",
        "class Mahasiswa(Person):\n",
        "  def __init__(self, nama, jenkel, alamat, no_wa, nim, jurusan):\n",
        "    super().__init__(nama, jenkel, alamat, no_wa)\n",
        "    self.nim = nim\n",
        "    self.jurusan = jurusan\n",
        "\n",
        "  def BayarKuliah():\n",
        "    pass # Syntax pass artinya method ini dilewati (tidak memiliki isi)\n",
        "  \n",
        "  def IkutKelas():\n",
        "    pass\n",
        "  \n",
        "  def LihatNilai():\n",
        "    pass\n",
        "\n",
        "# Subclass 2\n",
        "class Dosen(Person):\n",
        "  def __init__(self, nama, jenkel, alamat, no_wa, nidn, spesialisasi, jumlah_ngajar_sks):\n",
        "    super().__init__(nama, jenkel, alamat, no_wa)\n",
        "    self.nidn = nidn\n",
        "    self.spesialisasi = spesialisasi\n",
        "    self.jumlah_ngajar_sks = jumlah_ngajar_sks\n",
        "\n",
        "  def MengisiKelas():\n",
        "    pass\n",
        "  \n",
        "  def SetNilai():\n",
        "    pass\n",
        "  \n",
        "  def MendapatGaji():\n",
        "    pass\n",
        "\n",
        "# Subclass 3\n",
        "class Karyawan(Person):\n",
        "  def __init__(self, nama, jenkel, alamat, no_wa, nik, divisi, gaji_pokok, lembur):\n",
        "    super().__init__(nama, jenkel, alamat, no_wa)\n",
        "    self.nik = nik\n",
        "    self.divisi = divisi\n",
        "    self.gaji_pokok = gaji_pokok\n",
        "    self.lembur = lembur\n",
        "\n",
        "  def MelayaniMahasiswa():\n",
        "    pass\n",
        "  \n",
        "  def BuatLaporan():\n",
        "    pass\n",
        "  \n",
        "  def MendapatGaji():\n",
        "    pass\n",
        "    "
      ],
      "execution_count": null,
      "outputs": []
    },
    {
      "cell_type": "code",
      "metadata": {
        "id": "Ye2FWlvSITaX"
      },
      "source": [
        "# Super Class\n",
        "class Person(object):\n",
        "  def __init__(self, nama, jenkel, alamat, no_wa):\n",
        "    self.nama = nama\n",
        "    self.jenkel = jenkel\n",
        "    self.alamat = alamat\n",
        "    self.no_wa = no_wa\n",
        "  \n",
        "  def MendapatGaji(): # <- Polymorphism\n",
        "    pass\n",
        "\n",
        "# Subclass 1\n",
        "class Dosen(Person):\n",
        "  def __init__(self, nama, jenkel, alamat, no_wa, nidn, spesialisasi, jumlah_ngajar_sks):\n",
        "    super().__init__(nama, jenkel, alamat, no_wa)\n",
        "    self.nidn = nidn\n",
        "    self.spesialisasi = spesialisasi\n",
        "    self.jumlah_ngajar_sks = jumlah_ngajar_sks\n",
        "\n",
        "  def MengisiKelas():\n",
        "    pass\n",
        "  \n",
        "  def SetNilai():\n",
        "    pass\n",
        "  \n",
        "  def MendapatGaji(): # <- Polymorphism (method warisan, tetapi isinya berbeda pada tiap objek)\n",
        "    return self.jumlah_ngajar_sks * 500000\n",
        "\n",
        "# Subclass 2\n",
        "class Karyawan(Person):\n",
        "  def __init__(self, nama, jenkel, alamat, no_wa, nik, divisi, gaji_pokok, lembur):\n",
        "    super().__init__(nama, jenkel, alamat, no_wa)\n",
        "    self.nik = nik\n",
        "    self.divisi = divisi\n",
        "    self.gaji_pokok = gaji_pokok\n",
        "    self.lembur = lembur\n",
        "\n",
        "  def MelayaniMahasiswa():\n",
        "    pass\n",
        "  \n",
        "  def BuatLaporan():\n",
        "    pass\n",
        "  \n",
        "  def MendapatGaji(): # <- Polymorphism (method warisan, tetapi isinya berbeda pada tiap objek)\n",
        "    return self.gaji_pokok + self.lembur"
      ],
      "execution_count": null,
      "outputs": []
    },
    {
      "cell_type": "markdown",
      "metadata": {
        "id": "xf3ylfGtB8qY"
      },
      "source": [
        "# **Time Complexity**\n",
        "## Activity \n",
        "\n",
        "Hitung time complexity dengan bigO Notation pada algoritma berikut:\n",
        "\n",
        "* Tidak perlu di run"
      ]
    },
    {
      "cell_type": "code",
      "metadata": {
        "colab": {
          "base_uri": "https://localhost:8080/"
        },
        "id": "fnk4oJoJCJJG",
        "outputId": "a03d91c6-c975-45ab-8a63-788e71c5d501"
      },
      "source": [
        "# 1 \n",
        "# O(1)\n",
        "arr = [1, 2, 3, 4, 5]\n",
        "\n",
        "print(arr[0])\n",
        "print(arr[1])"
      ],
      "execution_count": null,
      "outputs": [
        {
          "output_type": "stream",
          "name": "stdout",
          "text": [
            "1\n",
            "2\n"
          ]
        }
      ]
    },
    {
      "cell_type": "code",
      "metadata": {
        "colab": {
          "base_uri": "https://localhost:8080/"
        },
        "id": "LCgmhC-qD0p2",
        "outputId": "e42e5d80-08a0-49f2-fa9d-bc5e05a50ab9"
      },
      "source": [
        "# 2\n",
        "# O(n)\n",
        "print(arr[2])\n",
        "for number in arr:\n",
        "  print(number)\n",
        "print(arr[1])\n",
        "print(arr[2])"
      ],
      "execution_count": null,
      "outputs": [
        {
          "output_type": "stream",
          "name": "stdout",
          "text": [
            "3\n",
            "1\n",
            "2\n",
            "3\n",
            "4\n",
            "5\n",
            "2\n",
            "3\n"
          ]
        }
      ]
    },
    {
      "cell_type": "code",
      "metadata": {
        "colab": {
          "base_uri": "https://localhost:8080/"
        },
        "id": "w5Upv3LdECFO",
        "outputId": "79c31702-9742-4125-a69c-c3ff9bf28221"
      },
      "source": [
        "# 3\n",
        "# O(n)\n",
        "arr2 = [6, 7, 8, 9, 10]\n",
        "\n",
        "for number in arr:\n",
        "  print(number)\n",
        "for number in arr2:\n",
        "  print(number)\n",
        "print(arr2[4])"
      ],
      "execution_count": null,
      "outputs": [
        {
          "output_type": "stream",
          "name": "stdout",
          "text": [
            "1\n",
            "2\n",
            "3\n",
            "4\n",
            "5\n",
            "6\n",
            "7\n",
            "8\n",
            "9\n",
            "10\n",
            "10\n"
          ]
        }
      ]
    },
    {
      "cell_type": "code",
      "metadata": {
        "colab": {
          "base_uri": "https://localhost:8080/"
        },
        "id": "yXtKHziAEghO",
        "outputId": "eae70583-788f-47c3-eb02-e2c84de0e750"
      },
      "source": [
        "# 4\n",
        "# O(n)\n",
        "print(arr2[1])\n",
        "for number in arr:\n",
        "  print(number)\n",
        "for number in arr:\n",
        "  print(number)"
      ],
      "execution_count": null,
      "outputs": [
        {
          "output_type": "stream",
          "name": "stdout",
          "text": [
            "7\n",
            "1\n",
            "2\n",
            "3\n",
            "4\n",
            "5\n",
            "1\n",
            "2\n",
            "3\n",
            "4\n",
            "5\n"
          ]
        }
      ]
    },
    {
      "cell_type": "code",
      "metadata": {
        "colab": {
          "base_uri": "https://localhost:8080/"
        },
        "id": "9dXVL-S9EzxT",
        "outputId": "1f42f558-cc9f-4c53-854b-93b2d58fd210"
      },
      "source": [
        "# 5\n",
        "# O(n)2\n",
        "\n",
        "for number in arr:\n",
        "  for number2 in arr2:\n",
        "    print(number+number2)\n",
        "print(arr[1]+arr2[1])\n",
        "print(arr2[2])"
      ],
      "execution_count": null,
      "outputs": [
        {
          "output_type": "stream",
          "name": "stdout",
          "text": [
            "7\n",
            "8\n",
            "9\n",
            "10\n",
            "11\n",
            "8\n",
            "9\n",
            "10\n",
            "11\n",
            "12\n",
            "9\n",
            "10\n",
            "11\n",
            "12\n",
            "13\n",
            "10\n",
            "11\n",
            "12\n",
            "13\n",
            "14\n",
            "11\n",
            "12\n",
            "13\n",
            "14\n",
            "15\n",
            "9\n",
            "8\n"
          ]
        }
      ]
    },
    {
      "cell_type": "code",
      "metadata": {
        "colab": {
          "base_uri": "https://localhost:8080/"
        },
        "id": "6SC68I3PFFge",
        "outputId": "d0285079-34e4-48c0-fe16-a12bafd1206c"
      },
      "source": [
        "# 6 \n",
        "# O(n2)\n",
        "for number in arr:\n",
        "  for number2 in arr:\n",
        "    print(number+number2)\n",
        "print(arr)"
      ],
      "execution_count": null,
      "outputs": [
        {
          "output_type": "stream",
          "name": "stdout",
          "text": [
            "2\n",
            "3\n",
            "4\n",
            "5\n",
            "6\n",
            "3\n",
            "4\n",
            "5\n",
            "6\n",
            "7\n",
            "4\n",
            "5\n",
            "6\n",
            "7\n",
            "8\n",
            "5\n",
            "6\n",
            "7\n",
            "8\n",
            "9\n",
            "6\n",
            "7\n",
            "8\n",
            "9\n",
            "10\n",
            "[1, 2, 3, 4, 5]\n"
          ]
        }
      ]
    },
    {
      "cell_type": "code",
      "metadata": {
        "colab": {
          "base_uri": "https://localhost:8080/"
        },
        "id": "b7w1_oXnGXfs",
        "outputId": "b800ae4a-6b5a-4490-f927-397eaf3e8624"
      },
      "source": [
        "# 7 \n",
        "# O(n)2\n",
        "\n",
        "for number in arr:\n",
        "  for number2 in arr2:\n",
        "    for number3 in arr:\n",
        "      print(number+number2+number3)\n",
        "print(arr[1])\n",
        "print(arr2[2])\n",
        "print(arr2[3])\n"
      ],
      "execution_count": null,
      "outputs": [
        {
          "output_type": "stream",
          "name": "stdout",
          "text": [
            "8\n",
            "9\n",
            "10\n",
            "11\n",
            "12\n",
            "9\n",
            "10\n",
            "11\n",
            "12\n",
            "13\n",
            "10\n",
            "11\n",
            "12\n",
            "13\n",
            "14\n",
            "11\n",
            "12\n",
            "13\n",
            "14\n",
            "15\n",
            "12\n",
            "13\n",
            "14\n",
            "15\n",
            "16\n",
            "9\n",
            "10\n",
            "11\n",
            "12\n",
            "13\n",
            "10\n",
            "11\n",
            "12\n",
            "13\n",
            "14\n",
            "11\n",
            "12\n",
            "13\n",
            "14\n",
            "15\n",
            "12\n",
            "13\n",
            "14\n",
            "15\n",
            "16\n",
            "13\n",
            "14\n",
            "15\n",
            "16\n",
            "17\n",
            "10\n",
            "11\n",
            "12\n",
            "13\n",
            "14\n",
            "11\n",
            "12\n",
            "13\n",
            "14\n",
            "15\n",
            "12\n",
            "13\n",
            "14\n",
            "15\n",
            "16\n",
            "13\n",
            "14\n",
            "15\n",
            "16\n",
            "17\n",
            "14\n",
            "15\n",
            "16\n",
            "17\n",
            "18\n",
            "11\n",
            "12\n",
            "13\n",
            "14\n",
            "15\n",
            "12\n",
            "13\n",
            "14\n",
            "15\n",
            "16\n",
            "13\n",
            "14\n",
            "15\n",
            "16\n",
            "17\n",
            "14\n",
            "15\n",
            "16\n",
            "17\n",
            "18\n",
            "15\n",
            "16\n",
            "17\n",
            "18\n",
            "19\n",
            "12\n",
            "13\n",
            "14\n",
            "15\n",
            "16\n",
            "13\n",
            "14\n",
            "15\n",
            "16\n",
            "17\n",
            "14\n",
            "15\n",
            "16\n",
            "17\n",
            "18\n",
            "15\n",
            "16\n",
            "17\n",
            "18\n",
            "19\n",
            "16\n",
            "17\n",
            "18\n",
            "19\n",
            "20\n",
            "2\n",
            "8\n",
            "9\n"
          ]
        }
      ]
    },
    {
      "cell_type": "code",
      "metadata": {
        "colab": {
          "base_uri": "https://localhost:8080/"
        },
        "id": "Cm1Hcy3JG6sh",
        "outputId": "42cedfc8-f51f-4783-fd10-4a45d6aab0af"
      },
      "source": [
        "# 8\n",
        "# O(n)2\n",
        "\n",
        "for number in arr:\n",
        "  print(number)\n",
        "print(arr2)\n",
        "for number in arr:\n",
        "  for number2 in arr2:\n",
        "    print(number+number2)\n",
        "print(arr)"
      ],
      "execution_count": null,
      "outputs": [
        {
          "output_type": "stream",
          "name": "stdout",
          "text": [
            "1\n",
            "2\n",
            "3\n",
            "4\n",
            "5\n",
            "[6, 7, 8, 9, 10]\n",
            "7\n",
            "8\n",
            "9\n",
            "10\n",
            "11\n",
            "8\n",
            "9\n",
            "10\n",
            "11\n",
            "12\n",
            "9\n",
            "10\n",
            "11\n",
            "12\n",
            "13\n",
            "10\n",
            "11\n",
            "12\n",
            "13\n",
            "14\n",
            "11\n",
            "12\n",
            "13\n",
            "14\n",
            "15\n",
            "[1, 2, 3, 4, 5]\n"
          ]
        }
      ]
    },
    {
      "cell_type": "code",
      "metadata": {
        "id": "pxovWM6hGgwX"
      },
      "source": [
        ""
      ],
      "execution_count": null,
      "outputs": []
    },
    {
      "cell_type": "code",
      "metadata": {
        "id": "V1LJBb29Gg8q"
      },
      "source": [
        ""
      ],
      "execution_count": null,
      "outputs": []
    },
    {
      "cell_type": "code",
      "metadata": {
        "id": "EgpO69yqHJ3K"
      },
      "source": [
        "# 9 \n",
        "\n",
        "# algoritma bubble sort"
      ],
      "execution_count": null,
      "outputs": []
    },
    {
      "cell_type": "code",
      "metadata": {
        "id": "qD9VauTyG_RJ"
      },
      "source": [
        "# 10\n",
        "\n",
        "# algoritma linear search"
      ],
      "execution_count": null,
      "outputs": []
    },
    {
      "cell_type": "code",
      "metadata": {
        "id": "OaKrQWZJH28k"
      },
      "source": [
        "# 11\n",
        "\n",
        "# algoritma binary search"
      ],
      "execution_count": null,
      "outputs": []
    },
    {
      "cell_type": "markdown",
      "metadata": {
        "id": "vtMP6uNJI4M-"
      },
      "source": [
        "###link google colab team\n",
        "1. Intan :\n",
        "  link   : https://colab.research.google.com/drive/1meMjGYY69edkoObEmTeN1pVT079ErX4m?usp=sharing\n",
        "2. Aji   : \n",
        "  link   : https://colab.research.google.com/drive/11fOIki1XroWIzljUNG8z7Mtp551bYk9m?usp=sharing#scrollTo=WItF84Uqh2R2\n",
        "3. Irfan  : \n",
        "  link    : https://colab.research.google.com/drive/1is0_SYixYTH8qaYQhWAQ03ox64GDBG61?usp=sharing"
      ]
    }
  ]
}